{
  "nbformat": 4,
  "nbformat_minor": 0,
  "metadata": {
    "colab": {
      "provenance": [],
      "collapsed_sections": [],
      "include_colab_link": true
    },
    "kernelspec": {
      "name": "python3",
      "display_name": "Python 3"
    }
  },
  "cells": [
    {
      "cell_type": "markdown",
      "metadata": {
        "id": "view-in-github",
        "colab_type": "text"
      },
      "source": [
        "<a href=\"https://colab.research.google.com/github/sarenales/MDD/blob/main/Sesgo_varianza.ipynb\" target=\"_parent\"><img src=\"https://colab.research.google.com/assets/colab-badge.svg\" alt=\"Open In Colab\"/></a>"
      ]
    },
    {
      "cell_type": "markdown",
      "metadata": {
        "id": "wqLVx-xHpwGb"
      },
      "source": [
        "# Ejemplo de sesgo y varianza\n",
        "NOTA: este ejemplo se basa en el post publicado en: https://www.analyticsvidhya.com/blog/2020/08/bias-and-variance-tradeoff-machine-learning/\n",
        "\n",
        "Vamos a usar el conjunto de datos llamado \"diabetes.csv\" (nos lo descargaremos usando `wget`) para plantear un problema de clasificación. Lo primero, importaremos las librerías necesarias y echaremos un vistazo a nuestro conjunto de datos:"
      ]
    },
    {
      "cell_type": "code",
      "metadata": {
        "id": "cKb2a7tFk109"
      },
      "source": [
        "import numpy as np # algebra lineal\n",
        "import pandas as pd # procesamiento de datos\n",
        "\n",
        "# Scikitlearn: libreria de aprendizaje automatico para Python: https://scikit-learn.org/stable/\n",
        "from sklearn.model_selection import train_test_split\n",
        "from sklearn.preprocessing import StandardScaler\n",
        "from sklearn.neighbors import KNeighborsClassifier\n",
        "\n",
        "import matplotlib.pyplot as plt # graficos\n",
        "%matplotlib inline"
      ],
      "execution_count": null,
      "outputs": []
    },
    {
      "cell_type": "markdown",
      "metadata": {
        "id": "HHorjGoEqwfj"
      },
      "source": [
        "Vamos a bajarnos el conjunto de datos llamado 'diabetes.csv'. Es un archivo CSV que se aloja en EHUBox. Usaremos el comando `wget` de la línea de comandos de Linux. Es por ello que usamos `!` antes del comando: para que Colab sepa que no estamos escribiendo código de Python, sino que comandos de la línea de comandos de Linux."
      ]
    },
    {
      "cell_type": "code",
      "metadata": {
        "id": "EEZrnm2dg_CU",
        "colab": {
          "base_uri": "https://localhost:8080/"
        },
        "outputId": "f778253c-6b92-4366-c42a-0ebec908b7b6"
      },
      "source": [
        "!wget -O diabetes.csv https://ehubox.ehu.eus/s/kDQ8774cbLTgTeq/download"
      ],
      "execution_count": null,
      "outputs": [
        {
          "output_type": "stream",
          "name": "stdout",
          "text": [
            "--2022-09-30 12:19:47--  https://ehubox.ehu.eus/s/kDQ8774cbLTgTeq/download\n",
            "Resolving ehubox.ehu.eus (ehubox.ehu.eus)... 158.227.0.95\n",
            "Connecting to ehubox.ehu.eus (ehubox.ehu.eus)|158.227.0.95|:443... connected.\n",
            "HTTP request sent, awaiting response... 200 OK\n",
            "Length: 23873 (23K) [text/csv]\n",
            "Saving to: ‘diabetes.csv’\n",
            "\n",
            "diabetes.csv        100%[===================>]  23.31K  --.-KB/s    in 0.1s    \n",
            "\n",
            "2022-09-30 12:19:49 (189 KB/s) - ‘diabetes.csv’ saved [23873/23873]\n",
            "\n"
          ]
        }
      ]
    },
    {
      "cell_type": "code",
      "metadata": {
        "id": "Hij1JkOchb-q",
        "colab": {
          "base_uri": "https://localhost:8080/"
        },
        "outputId": "e38a942d-e1ea-4835-f789-23b1364ff9db"
      },
      "source": [
        "!ls"
      ],
      "execution_count": null,
      "outputs": [
        {
          "output_type": "stream",
          "name": "stdout",
          "text": [
            "diabetes.csv  sample_data\n"
          ]
        }
      ]
    },
    {
      "cell_type": "markdown",
      "metadata": {
        "id": "z3LyiOBNqab6"
      },
      "source": [
        "Leemos el archvio CSV usando la librería Pandas (https://pandas.pydata.org/):"
      ]
    },
    {
      "cell_type": "code",
      "metadata": {
        "id": "xg9D_8PhmGh0",
        "colab": {
          "base_uri": "https://localhost:8080/",
          "height": 224
        },
        "outputId": "46d7f079-e304-469b-e29d-2c5094708ce3"
      },
      "source": [
        "data_df = pd.read_csv('diabetes.csv')\n",
        "print(f'Cantidad de muestras: {len(data_df)}')\n",
        "data_df.head()"
      ],
      "execution_count": null,
      "outputs": [
        {
          "output_type": "stream",
          "name": "stdout",
          "text": [
            "Cantidad de muestras: 768\n"
          ]
        },
        {
          "output_type": "execute_result",
          "data": {
            "text/plain": [
              "   Pregnancies  Glucose  BloodPressure  SkinThickness  Insulin   BMI  \\\n",
              "0            6      148             72             35        0  33.6   \n",
              "1            1       85             66             29        0  26.6   \n",
              "2            8      183             64              0        0  23.3   \n",
              "3            1       89             66             23       94  28.1   \n",
              "4            0      137             40             35      168  43.1   \n",
              "\n",
              "   DiabetesPedigreeFunction  Age  Outcome  \n",
              "0                     0.627   50        1  \n",
              "1                     0.351   31        0  \n",
              "2                     0.672   32        1  \n",
              "3                     0.167   21        0  \n",
              "4                     2.288   33        1  "
            ],
            "text/html": [
              "\n",
              "  <div id=\"df-9d1a0c8d-3643-4f27-819c-b0e57aef3698\">\n",
              "    <div class=\"colab-df-container\">\n",
              "      <div>\n",
              "<style scoped>\n",
              "    .dataframe tbody tr th:only-of-type {\n",
              "        vertical-align: middle;\n",
              "    }\n",
              "\n",
              "    .dataframe tbody tr th {\n",
              "        vertical-align: top;\n",
              "    }\n",
              "\n",
              "    .dataframe thead th {\n",
              "        text-align: right;\n",
              "    }\n",
              "</style>\n",
              "<table border=\"1\" class=\"dataframe\">\n",
              "  <thead>\n",
              "    <tr style=\"text-align: right;\">\n",
              "      <th></th>\n",
              "      <th>Pregnancies</th>\n",
              "      <th>Glucose</th>\n",
              "      <th>BloodPressure</th>\n",
              "      <th>SkinThickness</th>\n",
              "      <th>Insulin</th>\n",
              "      <th>BMI</th>\n",
              "      <th>DiabetesPedigreeFunction</th>\n",
              "      <th>Age</th>\n",
              "      <th>Outcome</th>\n",
              "    </tr>\n",
              "  </thead>\n",
              "  <tbody>\n",
              "    <tr>\n",
              "      <th>0</th>\n",
              "      <td>6</td>\n",
              "      <td>148</td>\n",
              "      <td>72</td>\n",
              "      <td>35</td>\n",
              "      <td>0</td>\n",
              "      <td>33.6</td>\n",
              "      <td>0.627</td>\n",
              "      <td>50</td>\n",
              "      <td>1</td>\n",
              "    </tr>\n",
              "    <tr>\n",
              "      <th>1</th>\n",
              "      <td>1</td>\n",
              "      <td>85</td>\n",
              "      <td>66</td>\n",
              "      <td>29</td>\n",
              "      <td>0</td>\n",
              "      <td>26.6</td>\n",
              "      <td>0.351</td>\n",
              "      <td>31</td>\n",
              "      <td>0</td>\n",
              "    </tr>\n",
              "    <tr>\n",
              "      <th>2</th>\n",
              "      <td>8</td>\n",
              "      <td>183</td>\n",
              "      <td>64</td>\n",
              "      <td>0</td>\n",
              "      <td>0</td>\n",
              "      <td>23.3</td>\n",
              "      <td>0.672</td>\n",
              "      <td>32</td>\n",
              "      <td>1</td>\n",
              "    </tr>\n",
              "    <tr>\n",
              "      <th>3</th>\n",
              "      <td>1</td>\n",
              "      <td>89</td>\n",
              "      <td>66</td>\n",
              "      <td>23</td>\n",
              "      <td>94</td>\n",
              "      <td>28.1</td>\n",
              "      <td>0.167</td>\n",
              "      <td>21</td>\n",
              "      <td>0</td>\n",
              "    </tr>\n",
              "    <tr>\n",
              "      <th>4</th>\n",
              "      <td>0</td>\n",
              "      <td>137</td>\n",
              "      <td>40</td>\n",
              "      <td>35</td>\n",
              "      <td>168</td>\n",
              "      <td>43.1</td>\n",
              "      <td>2.288</td>\n",
              "      <td>33</td>\n",
              "      <td>1</td>\n",
              "    </tr>\n",
              "  </tbody>\n",
              "</table>\n",
              "</div>\n",
              "      <button class=\"colab-df-convert\" onclick=\"convertToInteractive('df-9d1a0c8d-3643-4f27-819c-b0e57aef3698')\"\n",
              "              title=\"Convert this dataframe to an interactive table.\"\n",
              "              style=\"display:none;\">\n",
              "        \n",
              "  <svg xmlns=\"http://www.w3.org/2000/svg\" height=\"24px\"viewBox=\"0 0 24 24\"\n",
              "       width=\"24px\">\n",
              "    <path d=\"M0 0h24v24H0V0z\" fill=\"none\"/>\n",
              "    <path d=\"M18.56 5.44l.94 2.06.94-2.06 2.06-.94-2.06-.94-.94-2.06-.94 2.06-2.06.94zm-11 1L8.5 8.5l.94-2.06 2.06-.94-2.06-.94L8.5 2.5l-.94 2.06-2.06.94zm10 10l.94 2.06.94-2.06 2.06-.94-2.06-.94-.94-2.06-.94 2.06-2.06.94z\"/><path d=\"M17.41 7.96l-1.37-1.37c-.4-.4-.92-.59-1.43-.59-.52 0-1.04.2-1.43.59L10.3 9.45l-7.72 7.72c-.78.78-.78 2.05 0 2.83L4 21.41c.39.39.9.59 1.41.59.51 0 1.02-.2 1.41-.59l7.78-7.78 2.81-2.81c.8-.78.8-2.07 0-2.86zM5.41 20L4 18.59l7.72-7.72 1.47 1.35L5.41 20z\"/>\n",
              "  </svg>\n",
              "      </button>\n",
              "      \n",
              "  <style>\n",
              "    .colab-df-container {\n",
              "      display:flex;\n",
              "      flex-wrap:wrap;\n",
              "      gap: 12px;\n",
              "    }\n",
              "\n",
              "    .colab-df-convert {\n",
              "      background-color: #E8F0FE;\n",
              "      border: none;\n",
              "      border-radius: 50%;\n",
              "      cursor: pointer;\n",
              "      display: none;\n",
              "      fill: #1967D2;\n",
              "      height: 32px;\n",
              "      padding: 0 0 0 0;\n",
              "      width: 32px;\n",
              "    }\n",
              "\n",
              "    .colab-df-convert:hover {\n",
              "      background-color: #E2EBFA;\n",
              "      box-shadow: 0px 1px 2px rgba(60, 64, 67, 0.3), 0px 1px 3px 1px rgba(60, 64, 67, 0.15);\n",
              "      fill: #174EA6;\n",
              "    }\n",
              "\n",
              "    [theme=dark] .colab-df-convert {\n",
              "      background-color: #3B4455;\n",
              "      fill: #D2E3FC;\n",
              "    }\n",
              "\n",
              "    [theme=dark] .colab-df-convert:hover {\n",
              "      background-color: #434B5C;\n",
              "      box-shadow: 0px 1px 3px 1px rgba(0, 0, 0, 0.15);\n",
              "      filter: drop-shadow(0px 1px 2px rgba(0, 0, 0, 0.3));\n",
              "      fill: #FFFFFF;\n",
              "    }\n",
              "  </style>\n",
              "\n",
              "      <script>\n",
              "        const buttonEl =\n",
              "          document.querySelector('#df-9d1a0c8d-3643-4f27-819c-b0e57aef3698 button.colab-df-convert');\n",
              "        buttonEl.style.display =\n",
              "          google.colab.kernel.accessAllowed ? 'block' : 'none';\n",
              "\n",
              "        async function convertToInteractive(key) {\n",
              "          const element = document.querySelector('#df-9d1a0c8d-3643-4f27-819c-b0e57aef3698');\n",
              "          const dataTable =\n",
              "            await google.colab.kernel.invokeFunction('convertToInteractive',\n",
              "                                                     [key], {});\n",
              "          if (!dataTable) return;\n",
              "\n",
              "          const docLinkHtml = 'Like what you see? Visit the ' +\n",
              "            '<a target=\"_blank\" href=https://colab.research.google.com/notebooks/data_table.ipynb>data table notebook</a>'\n",
              "            + ' to learn more about interactive tables.';\n",
              "          element.innerHTML = '';\n",
              "          dataTable['output_type'] = 'display_data';\n",
              "          await google.colab.output.renderOutput(dataTable, element);\n",
              "          const docLink = document.createElement('div');\n",
              "          docLink.innerHTML = docLinkHtml;\n",
              "          element.appendChild(docLink);\n",
              "        }\n",
              "      </script>\n",
              "    </div>\n",
              "  </div>\n",
              "  "
            ]
          },
          "metadata": {},
          "execution_count": 4
        }
      ]
    },
    {
      "cell_type": "markdown",
      "metadata": {
        "id": "aMYqCfMDqmtO"
      },
      "source": [
        "En este problema de clasificación, nuestro objetivo es predecir la columna \"Outcome\", siendo las demás columnas las variables predictoras. Por lo tanto, separaremos los datos en dos (x e y):"
      ]
    },
    {
      "cell_type": "code",
      "metadata": {
        "id": "de3OeHIYnmRT"
      },
      "source": [
        "y = data_df[\"Outcome\"].values\n",
        "x = data_df.drop([\"Outcome\"],axis=1)"
      ],
      "execution_count": null,
      "outputs": []
    },
    {
      "cell_type": "markdown",
      "metadata": {
        "id": "lMo9pK86q_oo"
      },
      "source": [
        "En aprendizaje automático suele ser muy habitual escalar o normalizar los valores de las variables predictoras, más aun al usar un algoritmo como $k$-NN que se basa en las distancias. Para hacer este escalado, usaremos la clase [StandardScaler](https://scikit-learn.org/stable/modules/generated/sklearn.preprocessing.StandardScaler.html) de ScikitLearn.\n",
        "\n",
        "Después, dividiremos nuestro conjunto de datos en dos: train (70%) y test (30%). Al usar la función train_test_split, la división será aleatoria. Para que todas las ejecuciones sean iguales, fijaremos un valor de semilla. "
      ]
    },
    {
      "cell_type": "code",
      "metadata": {
        "id": "MCnjGJZbnrJs",
        "colab": {
          "base_uri": "https://localhost:8080/"
        },
        "outputId": "d372813c-6366-4065-ef12-ffe82cc34f15"
      },
      "source": [
        "from sklearn.preprocessing import StandardScaler\n",
        "# fijar un valor para la semilla\n",
        "np.random.seed(1)\n",
        "ss = StandardScaler()\n",
        "x = ss.fit_transform(x)\n",
        "\n",
        "# Dividir el conjunto de datos en train y test\n",
        "X_train, X_test, y_train, y_test = train_test_split(x, y, test_size = 0.3) # 70% train y 30% test\n",
        "\n",
        "# Veamos un par de ejemplos de train (escalados)\n",
        "print('Un par de ejemplos de train:')\n",
        "print(X_train[0])\n",
        "print(X_train[1])\n",
        "\n",
        "# Miremos si realmente se han cumplido las proporciones\n",
        "print(f'Cantidad de muestras en train: {len(X_train)}. Proporcion: {len(X_train)/len(data_df)}')\n",
        "print(f'Cantidad de muestras en test: {len(X_test)}. Proporcion: {len(X_test)/len(data_df)}')\n"
      ],
      "execution_count": null,
      "outputs": [
        {
          "output_type": "stream",
          "name": "stdout",
          "text": [
            "Un par de ejemplos de train:\n",
            "[ 3.31264542  0.47275805  0.04624525  0.71908574  0.26222798  0.64823013\n",
            " -0.96304428  0.83038113]\n",
            "[-1.14185152 -0.74783062 -0.26394125  0.96999799  0.17539902  0.61015436\n",
            "  0.38694877 -0.70119842]\n",
            "Cantidad de muestras en train: 537. Proporcion: 0.69921875\n",
            "Cantidad de muestras en test: 231. Proporcion: 0.30078125\n"
          ]
        }
      ]
    },
    {
      "cell_type": "markdown",
      "metadata": {
        "id": "Lv5ONGCVr6Dj"
      },
      "source": [
        "Vamos a usar el algoritmo $k$-NN para aprender un clasificador. Es decir, usando $k$-NN sobre el conjunto de train (D) vamos a estimar la función $\\hat{f}(x; D)$ que aproxima la función real $y = f(x)$. La salida $y$ puede ser 0 o 1.\n",
        "\n",
        "Pero, ¿cómo podemos decidir el valor de $k$? Vamos a adoptar una postura totalmente empírica y luego intentaremos explicar los resultados obtenidos con los conceptos teóricos vistos. Vamos a probar todos los valores de $k \\in [1, 200]$ y monitorizaremos el acierto del clasificador tanto en train como en test. La idea es probar todos estos valores y ver cual de ellos obtiene el acierto más alto en test.\n",
        "\n",
        "NOTA: Esta forma de resolver el problema es aplicable en este caso concreto, ya que el conjunto de datos es pequeño. En general, usar este tipo de soluciones de \"fuerza bruta\" no es una buena idea, ya que la cantidad de recursos necesarios puede ser enorme. Además, estamos generando una solución ajustada al conjunto específico de test que tenemos. "
      ]
    },
    {
      "cell_type": "code",
      "metadata": {
        "id": "sxWkUl_2ntLc"
      },
      "source": [
        "train_score = []\n",
        "test_score = []\n",
        "k_vals = []\n",
        "\n",
        "for k in range(1, 200):\n",
        "    k_vals.append(k)\n",
        "    knn = KNeighborsClassifier(n_neighbors = k) # Los detalles especificos del k-NN: https://scikit-learn.org/stable/modules/generated/sklearn.neighbors.KNeighborsClassifier.html\n",
        "    knn.fit(X_train, y_train)\n",
        "    \n",
        "    tr_score = knn.score(X_train, y_train)\n",
        "    train_score.append(tr_score)\n",
        "    \n",
        "    te_score = knn.score(X_test, y_test)\n",
        "    test_score.append(te_score)"
      ],
      "execution_count": null,
      "outputs": []
    },
    {
      "cell_type": "code",
      "metadata": {
        "id": "vMMih6pOn2w7",
        "colab": {
          "base_uri": "https://localhost:8080/",
          "height": 372
        },
        "outputId": "b2003380-a953-4900-8acd-fb065c0eb546"
      },
      "source": [
        "plt.figure(figsize=(10,5))\n",
        "plt.xlabel('Valores de K')\n",
        "plt.ylabel('Tasa de acierto')\n",
        "plt.plot(k_vals, train_score, color = 'r', label = \"acierto en train\")\n",
        "plt.plot(k_vals, test_score, color = 'b', label = 'acierto en test')\n",
        "plt.legend(bbox_to_anchor=(1, 1),\n",
        "           bbox_transform=plt.gcf().transFigure)\n",
        "plt.show()"
      ],
      "execution_count": null,
      "outputs": [
        {
          "output_type": "display_data",
          "data": {
            "text/plain": [
              "<Figure size 720x360 with 1 Axes>"
            ],
            "image/png": "[encoded data removed]"
          },
          "metadata": {
            "needs_background": "light"
          }
        }
      ]
    },
    {
      "cell_type": "markdown",
      "metadata": {
        "id": "615V8iTPyu-h"
      },
      "source": [
        "Fijando la semilla a 1, siempre obtenemos la misma partición train/test, por lo que el resultado siempre es igual (si comentas la semilla más arriba, verás que en cada ejecución la gráfica cambia). Tomando esta gráfica como referencia, parace que el acierto más alto en test lo conseguimos con $k=10$."
      ]
    },
    {
      "cell_type": "code",
      "metadata": {
        "id": "mf7mVhn3n9EN",
        "colab": {
          "base_uri": "https://localhost:8080/"
        },
        "outputId": "c4dd5887-3b06-4310-d10f-5d71e399472e"
      },
      "source": [
        "knn = KNeighborsClassifier(n_neighbors = 10)\n",
        "\n",
        "# Ajustar el modelo\n",
        "knn.fit(X_train,y_train)\n",
        "\n",
        "# Obtener el acierto en test\n",
        "knn.score(X_test,y_test)"
      ],
      "execution_count": null,
      "outputs": [
        {
          "output_type": "execute_result",
          "data": {
            "text/plain": [
              "0.8051948051948052"
            ]
          },
          "metadata": {},
          "execution_count": 9
        }
      ]
    },
    {
      "cell_type": "markdown",
      "metadata": {
        "id": "NPWEDiJfv437"
      },
      "source": [
        "Podemos sacar las siguientes conclusiones de la gráfica:\n",
        "\n",
        "\n",
        "*   Para valores bajos de $k$ el acierto del clasificador sobre los datos de entrenamiento es muy alto (OJO: aquí no estamos monitorizando el error, sino que el acierto, así que tenemos que dar la vuelta a lo visto en la teoría). Sin embargo, el acierto sobre los datos de test (o dev) es considerablemente menor. Si le damos la vuelta, estamos diciendo que el error en train es bajo y en dev claramente más alto. ¿A qué nos suena eso? Exactamente: para valores bajos de $k$ tenemos un clasificador con varianza alta y sesgo bajo. Estamos observando un fenómeno de **sobreajuste** (*overfitting*).\n",
        "*   A medida que el valor de $k$ incrementa, el acierto en test va subiendo, a la vez que baja el acierto en train. Para valores muy altos de $k$ ($>100$), el acierto tanto en train como en test van hacia abajo. En ese régimen tenemos un clasificador con **sesgo alto** y **varianza alta** (lo peor de ambos mundos).\n",
        "*   Hay un régimen interesante, alrededor de $k=10$. Allí vemos cómo el acierto en train y test van convergiendo a valores muy similares (train bajando y test subiendo). Se ve claramente la **compensación entre sesgo y varianza** (el famoso *bias-variance tradeoff*). A medida que $k$ incrementa, el clasificador va ganando en sesgo y perdiendo varianza. Para $k=10$ encontramos el equilibrio adecuado para este conjunto específico de datos.\n",
        "\n",
        "## La perspectiva de la complejidad\n",
        "\n",
        "Decíamos en la teoría, que cuanto más complejo sea un modelo, más capacidad tiene de aprender de los datos, y menos suposiciones hace sobre la naturaleza de la función objetivo $f$ que queremos aproximar. Eso hacía que el modelo tuviera mayor varianza y menor sesgo. En el caso del $k$-NN, aunque parezca poco intuitivo, el modelo es más complejo para valores pequeños de $k$. Las fronteras de decisión que puede aprender para $k=1$ pueden ser extremadamente complejas (no-linearidad alta). Por ello, la complejidad de un modelo $k$-NN es inversamente proporcional a $k$. \n",
        "\n",
        "Habiendo entendido esto, podemos analizar la gráfica del acierto para diferentes valores de $k$ desde la perspectiva de la complejidad del modelo. Para valores bajos de $k$, es decir, complejidad alta, el acierto en train es alto y en test considerablemente más bajo. Como esperábamos, la comlejidad hace que el modelo tenga una varianza alta y un sesgo bajo (*overfitting*). A medida que incrementamos el valor de $k$, estamos reduciendo la complejidad del modelo. Por ello, nuestro modelo va hacia un sesgo más alto (más suposiciones sobre la naturaleza de la función objetivo) y una varianza menor (se ve menos afectado por los datos de train).\n",
        "\n"
      ]
    }
  ]
}