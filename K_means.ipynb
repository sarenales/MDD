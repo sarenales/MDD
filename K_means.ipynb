{
  "nbformat": 4,
  "nbformat_minor": 0,
  "metadata": {
    "colab": {
      "provenance": [],
      "include_colab_link": true
    },
    "kernelspec": {
      "name": "python3",
      "display_name": "Python 3"
    }
  },
  "cells": [
    {
      "cell_type": "markdown",
      "metadata": {
        "id": "view-in-github",
        "colab_type": "text"
      },
      "source": [
        "<a href=\"https://colab.research.google.com/github/sarenales/MDD/blob/main/K_means.ipynb\" target=\"_parent\"><img src=\"https://colab.research.google.com/assets/colab-badge.svg\" alt=\"Open In Colab\"/></a>"
      ]
    },
    {
      "cell_type": "markdown",
      "metadata": {
        "id": "ouY_ArFyJHie"
      },
      "source": [
        "# Ejemplo de implementación del algoritmo K-means\n",
        "Vamos a implementar el algoritmo K-means desde cero usando Python. Para ello, primero vamos a importar las librerías necesarias."
      ]
    },
    {
      "cell_type": "code",
      "metadata": {
        "id": "IL-p9NBMIzqJ"
      },
      "source": [
        "import numpy as np\n",
        "import matplotlib.pyplot as plt\n",
        "import pandas as pd # Pandas se usa para gestionar los datos"
      ],
      "execution_count": null,
      "outputs": []
    },
    {
      "cell_type": "markdown",
      "metadata": {
        "id": "bqd0cN62Jv4t"
      },
      "source": [
        "## Carga de datos\n",
        "Vamos a bajarnos el conjunto de datos llamado 'Mall_Customers.csv'. Es un archivo CSV que se aloja en EHUBox. Usaremos el comando `wget` de la línea de comandos de Linux. Es por ello que usamos `!` antes del comando: para que Colab sepa que no estamos escribiendo código de Python, sino que comandos de la línea de comandos de Linux."
      ]
    },
    {
      "cell_type": "code",
      "metadata": {
        "id": "tF4RpUo1d9oZ",
        "colab": {
          "base_uri": "https://localhost:8080/"
        },
        "outputId": "71bef823-d74e-4136-b1ff-a917c6b5fae5"
      },
      "source": [
        "!wget -O Mall_Customers.csv https://ehubox.ehu.eus/s/9mbrEyPtQNt6HM8/download"
      ],
      "execution_count": null,
      "outputs": [
        {
          "output_type": "stream",
          "name": "stdout",
          "text": [
            "--2022-11-11 15:27:40--  https://ehubox.ehu.eus/s/9mbrEyPtQNt6HM8/download\n",
            "Resolving ehubox.ehu.eus (ehubox.ehu.eus)... 158.227.0.95\n",
            "Connecting to ehubox.ehu.eus (ehubox.ehu.eus)|158.227.0.95|:443... connected.\n",
            "HTTP request sent, awaiting response... 200 OK\n",
            "Length: 4286 (4.2K) [text/csv]\n",
            "Saving to: ‘Mall_Customers.csv’\n",
            "\n",
            "Mall_Customers.csv  100%[===================>]   4.19K  --.-KB/s    in 0s      \n",
            "\n",
            "2022-11-11 15:27:41 (142 MB/s) - ‘Mall_Customers.csv’ saved [4286/4286]\n",
            "\n"
          ]
        }
      ]
    },
    {
      "cell_type": "code",
      "metadata": {
        "id": "zwBNW8O9eXNU",
        "colab": {
          "base_uri": "https://localhost:8080/"
        },
        "outputId": "2f8938e9-815d-422c-9849-7c7c9a7ae4e9"
      },
      "source": [
        "!ls"
      ],
      "execution_count": null,
      "outputs": [
        {
          "output_type": "stream",
          "name": "stdout",
          "text": [
            "Mall_Customers.csv  sample_data\n"
          ]
        }
      ]
    },
    {
      "cell_type": "markdown",
      "metadata": {
        "id": "ZjKfvQX1exnU"
      },
      "source": [
        "Ahora vamos a leer el archivo CSV usando la librería Pandas, para explorar el contenido de este conjunto de datos."
      ]
    },
    {
      "cell_type": "code",
      "metadata": {
        "id": "yRSD5gXLecCh",
        "colab": {
          "base_uri": "https://localhost:8080/",
          "height": 422
        },
        "outputId": "035e3a42-eab4-4128-bb06-4718da3cc774"
      },
      "source": [
        "dataset = pd.read_csv('Mall_Customers.csv')\n",
        "print(f'Cantidad de muestras: {len(dataset)}')\n",
        "print(dataset.head()) # Ver las primeras 10 lineas del dataset\n",
        "dataset.describe() # Obtener una descripcion completa del dataset con datos agregados"
      ],
      "execution_count": null,
      "outputs": [
        {
          "output_type": "stream",
          "name": "stdout",
          "text": [
            "Cantidad de muestras: 200\n",
            "   CustomerID   Genre  Age  Annual Income (k$)  Spending Score (1-100)\n",
            "0           1    Male   19                  15                      39\n",
            "1           2    Male   21                  15                      81\n",
            "2           3  Female   20                  16                       6\n",
            "3           4  Female   23                  16                      77\n",
            "4           5  Female   31                  17                      40\n"
          ]
        },
        {
          "output_type": "execute_result",
          "data": {
            "text/plain": [
              "       CustomerID         Age  Annual Income (k$)  Spending Score (1-100)\n",
              "count  200.000000  200.000000          200.000000              200.000000\n",
              "mean   100.500000   38.850000           60.560000               50.200000\n",
              "std     57.879185   13.969007           26.264721               25.823522\n",
              "min      1.000000   18.000000           15.000000                1.000000\n",
              "25%     50.750000   28.750000           41.500000               34.750000\n",
              "50%    100.500000   36.000000           61.500000               50.000000\n",
              "75%    150.250000   49.000000           78.000000               73.000000\n",
              "max    200.000000   70.000000          137.000000               99.000000"
            ],
            "text/html": [
              "\n",
              "  <div id=\"df-06fbe138-970b-40a6-a2b9-12194cb17d51\">\n",
              "    <div class=\"colab-df-container\">\n",
              "      <div>\n",
              "<style scoped>\n",
              "    .dataframe tbody tr th:only-of-type {\n",
              "        vertical-align: middle;\n",
              "    }\n",
              "\n",
              "    .dataframe tbody tr th {\n",
              "        vertical-align: top;\n",
              "    }\n",
              "\n",
              "    .dataframe thead th {\n",
              "        text-align: right;\n",
              "    }\n",
              "</style>\n",
              "<table border=\"1\" class=\"dataframe\">\n",
              "  <thead>\n",
              "    <tr style=\"text-align: right;\">\n",
              "      <th></th>\n",
              "      <th>CustomerID</th>\n",
              "      <th>Age</th>\n",
              "      <th>Annual Income (k$)</th>\n",
              "      <th>Spending Score (1-100)</th>\n",
              "    </tr>\n",
              "  </thead>\n",
              "  <tbody>\n",
              "    <tr>\n",
              "      <th>count</th>\n",
              "      <td>200.000000</td>\n",
              "      <td>200.000000</td>\n",
              "      <td>200.000000</td>\n",
              "      <td>200.000000</td>\n",
              "    </tr>\n",
              "    <tr>\n",
              "      <th>mean</th>\n",
              "      <td>100.500000</td>\n",
              "      <td>38.850000</td>\n",
              "      <td>60.560000</td>\n",
              "      <td>50.200000</td>\n",
              "    </tr>\n",
              "    <tr>\n",
              "      <th>std</th>\n",
              "      <td>57.879185</td>\n",
              "      <td>13.969007</td>\n",
              "      <td>26.264721</td>\n",
              "      <td>25.823522</td>\n",
              "    </tr>\n",
              "    <tr>\n",
              "      <th>min</th>\n",
              "      <td>1.000000</td>\n",
              "      <td>18.000000</td>\n",
              "      <td>15.000000</td>\n",
              "      <td>1.000000</td>\n",
              "    </tr>\n",
              "    <tr>\n",
              "      <th>25%</th>\n",
              "      <td>50.750000</td>\n",
              "      <td>28.750000</td>\n",
              "      <td>41.500000</td>\n",
              "      <td>34.750000</td>\n",
              "    </tr>\n",
              "    <tr>\n",
              "      <th>50%</th>\n",
              "      <td>100.500000</td>\n",
              "      <td>36.000000</td>\n",
              "      <td>61.500000</td>\n",
              "      <td>50.000000</td>\n",
              "    </tr>\n",
              "    <tr>\n",
              "      <th>75%</th>\n",
              "      <td>150.250000</td>\n",
              "      <td>49.000000</td>\n",
              "      <td>78.000000</td>\n",
              "      <td>73.000000</td>\n",
              "    </tr>\n",
              "    <tr>\n",
              "      <th>max</th>\n",
              "      <td>200.000000</td>\n",
              "      <td>70.000000</td>\n",
              "      <td>137.000000</td>\n",
              "      <td>99.000000</td>\n",
              "    </tr>\n",
              "  </tbody>\n",
              "</table>\n",
              "</div>\n",
              "      <button class=\"colab-df-convert\" onclick=\"convertToInteractive('df-06fbe138-970b-40a6-a2b9-12194cb17d51')\"\n",
              "              title=\"Convert this dataframe to an interactive table.\"\n",
              "              style=\"display:none;\">\n",
              "        \n",
              "  <svg xmlns=\"http://www.w3.org/2000/svg\" height=\"24px\"viewBox=\"0 0 24 24\"\n",
              "       width=\"24px\">\n",
              "    <path d=\"M0 0h24v24H0V0z\" fill=\"none\"/>\n",
              "    <path d=\"M18.56 5.44l.94 2.06.94-2.06 2.06-.94-2.06-.94-.94-2.06-.94 2.06-2.06.94zm-11 1L8.5 8.5l.94-2.06 2.06-.94-2.06-.94L8.5 2.5l-.94 2.06-2.06.94zm10 10l.94 2.06.94-2.06 2.06-.94-2.06-.94-.94-2.06-.94 2.06-2.06.94z\"/><path d=\"M17.41 7.96l-1.37-1.37c-.4-.4-.92-.59-1.43-.59-.52 0-1.04.2-1.43.59L10.3 9.45l-7.72 7.72c-.78.78-.78 2.05 0 2.83L4 21.41c.39.39.9.59 1.41.59.51 0 1.02-.2 1.41-.59l7.78-7.78 2.81-2.81c.8-.78.8-2.07 0-2.86zM5.41 20L4 18.59l7.72-7.72 1.47 1.35L5.41 20z\"/>\n",
              "  </svg>\n",
              "      </button>\n",
              "      \n",
              "  <style>\n",
              "    .colab-df-container {\n",
              "      display:flex;\n",
              "      flex-wrap:wrap;\n",
              "      gap: 12px;\n",
              "    }\n",
              "\n",
              "    .colab-df-convert {\n",
              "      background-color: #E8F0FE;\n",
              "      border: none;\n",
              "      border-radius: 50%;\n",
              "      cursor: pointer;\n",
              "      display: none;\n",
              "      fill: #1967D2;\n",
              "      height: 32px;\n",
              "      padding: 0 0 0 0;\n",
              "      width: 32px;\n",
              "    }\n",
              "\n",
              "    .colab-df-convert:hover {\n",
              "      background-color: #E2EBFA;\n",
              "      box-shadow: 0px 1px 2px rgba(60, 64, 67, 0.3), 0px 1px 3px 1px rgba(60, 64, 67, 0.15);\n",
              "      fill: #174EA6;\n",
              "    }\n",
              "\n",
              "    [theme=dark] .colab-df-convert {\n",
              "      background-color: #3B4455;\n",
              "      fill: #D2E3FC;\n",
              "    }\n",
              "\n",
              "    [theme=dark] .colab-df-convert:hover {\n",
              "      background-color: #434B5C;\n",
              "      box-shadow: 0px 1px 3px 1px rgba(0, 0, 0, 0.15);\n",
              "      filter: drop-shadow(0px 1px 2px rgba(0, 0, 0, 0.3));\n",
              "      fill: #FFFFFF;\n",
              "    }\n",
              "  </style>\n",
              "\n",
              "      <script>\n",
              "        const buttonEl =\n",
              "          document.querySelector('#df-06fbe138-970b-40a6-a2b9-12194cb17d51 button.colab-df-convert');\n",
              "        buttonEl.style.display =\n",
              "          google.colab.kernel.accessAllowed ? 'block' : 'none';\n",
              "\n",
              "        async function convertToInteractive(key) {\n",
              "          const element = document.querySelector('#df-06fbe138-970b-40a6-a2b9-12194cb17d51');\n",
              "          const dataTable =\n",
              "            await google.colab.kernel.invokeFunction('convertToInteractive',\n",
              "                                                     [key], {});\n",
              "          if (!dataTable) return;\n",
              "\n",
              "          const docLinkHtml = 'Like what you see? Visit the ' +\n",
              "            '<a target=\"_blank\" href=https://colab.research.google.com/notebooks/data_table.ipynb>data table notebook</a>'\n",
              "            + ' to learn more about interactive tables.';\n",
              "          element.innerHTML = '';\n",
              "          dataTable['output_type'] = 'display_data';\n",
              "          await google.colab.output.renderOutput(dataTable, element);\n",
              "          const docLink = document.createElement('div');\n",
              "          docLink.innerHTML = docLinkHtml;\n",
              "          element.appendChild(docLink);\n",
              "        }\n",
              "      </script>\n",
              "    </div>\n",
              "  </div>\n",
              "  "
            ]
          },
          "metadata": {},
          "execution_count": 23
        }
      ]
    },
    {
      "cell_type": "markdown",
      "metadata": {
        "id": "WJFb2U1SLfxY"
      },
      "source": [
        "Para simplificar el problema y su visualización, vamos a quedarnos solo con las columnas \"Annual Income\" y \"Spending Score\". De esta manera, trabajaremos solo en dos dimensiones."
      ]
    },
    {
      "cell_type": "code",
      "metadata": {
        "id": "orPZH835LokT",
        "colab": {
          "base_uri": "https://localhost:8080/"
        },
        "outputId": "e7df39f0-2f2f-48ad-d9cd-d6f87d589f04"
      },
      "source": [
        "X = dataset.iloc[:, [3, 4]].values\n",
        "X.shape"
      ],
      "execution_count": null,
      "outputs": [
        {
          "output_type": "execute_result",
          "data": {
            "text/plain": [
              "(200, 2)"
            ]
          },
          "metadata": {},
          "execution_count": 24
        }
      ]
    },
    {
      "cell_type": "markdown",
      "metadata": {
        "id": "28xU4fj1MDw5"
      },
      "source": [
        "## El algoritmo K-means\n",
        "Ya tenemos los datos preparados. Para empezar con la implementación del algoritmo K-means, definiremos el número máximo de iteraciones de nuestro algoritmo, para asegurarnos de que siempre termine (recordad que K-means no garantiza la convergencia del algoritmo). Definiremos también el número de clusters (K = 5 para este caso concreto)."
      ]
    },
    {
      "cell_type": "code",
      "metadata": {
        "id": "41-1iYBEMUWj"
      },
      "source": [
        "n_iter = 100\n",
        "K = 5 # number of clusters\n",
        "#np.random.seed(1) # Para reproducibilidad. Lo dejaremos comentado, para ver el efecto de inicializar los centroides aleatoriamente"
      ],
      "execution_count": null,
      "outputs": []
    },
    {
      "cell_type": "markdown",
      "metadata": {
        "id": "GBSR6fO9M2AG"
      },
      "source": [
        "**Paso 1**: Inicializar aleatoriamente los centroides."
      ]
    },
    {
      "cell_type": "code",
      "metadata": {
        "id": "QJ5YojoLNOCy",
        "colab": {
          "base_uri": "https://localhost:8080/"
        },
        "outputId": "c7549fac-51ce-4213-ed8d-1487b5ad8c1b"
      },
      "source": [
        "\n",
        "def init_centroids(X):\n",
        "  \"\"\"\n",
        "  Esta funcion sirve para inicializar los centroides de forma aleatoria.\n",
        "  Se escogen K muestras aleatorias de X como centroides.\n",
        "  \n",
        "  Input:\n",
        "\n",
        "  X -- numpy-array de shape (200, 2) con las muestras que queremos clusterizar.\n",
        "\n",
        "  Output:\n",
        "\n",
        "  centroids -- numpy-array de shape (K, 2) con los K centroides aleatorios\n",
        "  \"\"\"\n",
        "\n",
        "  centroids = np.zeros((K, 2))\n",
        "  print(\"centroids shape: {}\".format(centroids.shape))\n",
        "  random_indices = np.random.randint(0, X.shape[0], size=K)\n",
        "  print(\"random_indices shape: {}\".format(random_indices.shape))\n",
        "  print(random_indices)\n",
        "  for x, i in zip(random_indices, range(K)):\n",
        "    print(\"sample {}: {}\".format(x, X[x]))\n",
        "    centroids[i] = X[x]\n",
        "  \n",
        "  return centroids\n",
        "\n",
        "# Probemos la funcion\n",
        "centroids = init_centroids(X)\n",
        "print(\"Centroids:\")\n",
        "print(centroids)"
      ],
      "execution_count": null,
      "outputs": [
        {
          "output_type": "stream",
          "name": "stdout",
          "text": [
            "centroids shape: (5, 2)\n",
            "random_indices shape: (5,)\n",
            "[133  32 112  43 190]\n",
            "sample 133: [72 71]\n",
            "sample 32: [33  4]\n",
            "sample 112: [64 42]\n",
            "sample 43: [39 61]\n",
            "sample 190: [103  23]\n",
            "Centroids:\n",
            "[[ 72.  71.]\n",
            " [ 33.   4.]\n",
            " [ 64.  42.]\n",
            " [ 39.  61.]\n",
            " [103.  23.]]\n"
          ]
        }
      ]
    },
    {
      "cell_type": "markdown",
      "metadata": {
        "id": "3ioRdShTQChj"
      },
      "source": [
        "**Paso 2.a**: Calcular la matriz de distancias de todas las muestras de nuestro dataset a nuestros centroides. Usaremos la distancia euclídea."
      ]
    },
    {
      "cell_type": "code",
      "metadata": {
        "id": "VGE2oJsjQhA-",
        "colab": {
          "base_uri": "https://localhost:8080/"
        },
        "outputId": "9f03e69b-a6c4-481f-e3ab-9eb15f8a1917"
      },
      "source": [
        "def calculate_distance(X, centroids):\n",
        "  \"\"\"\n",
        "  Esta funcion calcula la distancia euclidea entre las muestras de X y los centroides en centroids.\n",
        "\n",
        "  Input:\n",
        "\n",
        "  X -- numpy-array de shape (200, 2)\n",
        "  centroids -- numpy-array de shape (5, 2)\n",
        "\n",
        "  Output:\n",
        "\n",
        "  dist_matrix -- numpy-array de shape (200, 5)\n",
        "  closest_centroid -- numpy-array de shape (200,) donde se guarda el centroide mas cercano de cada muestra\n",
        "\n",
        "  \"\"\"\n",
        "  \n",
        "  dist_matrix = np.zeros((X.shape[0], centroids.shape[0]))\n",
        "  for i in range(X.shape[0]):\n",
        "    x = X[i] # x es una muestra de 2 elementos\n",
        "    dist = np.sqrt(np.sum((centroids - x)**2, axis=1))\n",
        "    \"\"\"\n",
        "    if i == 0: # Por si acaso imprimimos el shape de dist una vez\n",
        "      print(\"dist shape: {}\".format(dist.shape))\n",
        "    \"\"\"\n",
        "    dist_matrix[i] = dist\n",
        "  \n",
        "  closest_centroid = np.argmin(dist_matrix, axis=1)\n",
        "  return dist_matrix, closest_centroid\n",
        "\n",
        "# Probemos la funcion\n",
        "dist_matrix, closest_centroid = calculate_distance(X, centroids)\n",
        "print(\"dist_matrix shape: {}\".format(dist_matrix.shape))\n",
        "print(\"closest_centroid shape: {}\".format(closest_centroid.shape))\n",
        "print(\"{} distances: {}. Closest centroid: {}\".format(X[0], dist_matrix[0], closest_centroid[0]))\n",
        "print(\"{} distances: {}. Closest centroid: {}\".format(X[1], dist_matrix[1], closest_centroid[1]))"
      ],
      "execution_count": null,
      "outputs": [
        {
          "output_type": "stream",
          "name": "stdout",
          "text": [
            "dist_matrix shape: (200, 5)\n",
            "closest_centroid shape: (200,)\n",
            "[15 39] distances: [65.36818798 39.35733731 49.09175083 32.55764119 89.4427191 ]. Closest centroid: 3\n",
            "[15 81] distances: [ 57.87054518  79.07591289  62.62587325  31.2409987  105.39449701]. Closest centroid: 3\n"
          ]
        }
      ]
    },
    {
      "cell_type": "markdown",
      "metadata": {
        "id": "4yS3Sl-wawbO"
      },
      "source": [
        "**Paso 2.b**: Agrupar las muestras en torno a sus centroides y calcular los nuevos centroides."
      ]
    },
    {
      "cell_type": "code",
      "metadata": {
        "id": "q1HbAnyIa8Am",
        "colab": {
          "base_uri": "https://localhost:8080/"
        },
        "outputId": "65bb6df3-16a9-49d7-b778-dd27d2fbf30a"
      },
      "source": [
        "def calculate_new_centroids(X, closest_centroid):\n",
        "  \"\"\"\n",
        "  Esta funcion agrupa las muestras de X segun closest_centroid\n",
        "\n",
        "  Input:\n",
        "\n",
        "  X -- numpy-array de shape (200, 2) con las muestras que queremos clusterizar\n",
        "  closest_centroid -- numpy-array de shape (200,) donde se guarda el centroide mas cercano a cada muestra\n",
        "  \n",
        "  Output:\n",
        "  \n",
        "  new_centroids -- numpy-array de shape (5, 2) con los nuevos centroides\n",
        "  partition -- diccionario con {num_centroide : [X_index]} representando las muestras que se agrupan en cada cluster\n",
        "\n",
        "  \"\"\"  \n",
        "\n",
        "  partition = {k:[] for k in range(K)} # Inicializamos la particion con un diccionario vacio usando los indices de los clusters como clave y una lista vacia como valor\n",
        "  #print(\"partition inicial: {}\".format(partition))  \n",
        "  for i in range(len(closest_centroid)):    \n",
        "    partition[closest_centroid[i]].append(i)\n",
        "  \n",
        "  new_centroids = np.zeros((K, X.shape[1]))\n",
        "  for i in range(K):\n",
        "    x_samples = X[closest_centroid == i]    \n",
        "    new_centroids[i] = np.mean(x_samples, axis=0)\n",
        "\n",
        "  return partition, new_centroids\n",
        "\n",
        "# Probemos la funcion\n",
        "partition, new_centroids = calculate_new_centroids(X, closest_centroid)\n",
        "print(\"Partition: {}\".format(partition))\n",
        "print(\"New centroids\")\n",
        "print(new_centroids)\n",
        "print(\"Old centroids\")\n",
        "print(centroids)"
      ],
      "execution_count": null,
      "outputs": [
        {
          "output_type": "stream",
          "name": "stdout",
          "text": [
            "Partition: {0: [88, 102, 117, 119, 122, 123, 125, 127, 129, 131, 133, 135, 137, 139, 141, 143, 145, 147, 149, 151, 153, 155, 157, 159, 161, 163, 165, 167, 169, 171, 173, 175, 177, 179, 181, 183, 185, 187, 189, 191, 193, 195, 197, 199], 1: [2, 6, 8, 10, 12, 14, 18, 22, 24, 26, 28, 30, 32, 34, 36, 38, 44], 2: [71, 72, 74, 75, 76, 77, 78, 79, 80, 82, 83, 85, 86, 87, 89, 90, 91, 92, 93, 94, 95, 96, 97, 98, 99, 100, 101, 103, 104, 105, 106, 107, 108, 109, 110, 111, 112, 113, 114, 115, 116, 118, 120, 121, 124, 126, 128, 130, 132, 142, 146, 148, 160], 3: [0, 1, 3, 4, 5, 7, 9, 11, 13, 15, 16, 17, 19, 20, 21, 23, 25, 27, 29, 31, 33, 35, 37, 39, 40, 41, 42, 43, 45, 46, 47, 48, 49, 50, 51, 52, 53, 54, 55, 56, 57, 58, 59, 60, 61, 62, 63, 64, 65, 66, 67, 68, 69, 70, 73, 81, 84], 4: [134, 136, 138, 140, 144, 150, 152, 154, 156, 158, 162, 164, 166, 168, 170, 172, 174, 176, 178, 180, 182, 184, 186, 188, 190, 192, 194, 196, 198]}\n",
            "New centroids\n",
            "[[84.         79.45454545]\n",
            " [26.52941176 15.35294118]\n",
            " [62.03773585 44.32075472]\n",
            " [35.71929825 61.        ]\n",
            " [91.06896552 15.75862069]]\n",
            "Old centroids\n",
            "[[ 72.  71.]\n",
            " [ 33.   4.]\n",
            " [ 64.  42.]\n",
            " [ 39.  61.]\n",
            " [103.  23.]]\n"
          ]
        }
      ]
    },
    {
      "cell_type": "markdown",
      "metadata": {
        "id": "2NjS0UH-zO--"
      },
      "source": [
        "**Paso 2.c**: Mirar si el algoritmo ha convergido. Para ello, miraremos que los centroides no se hayan movido \"mucho\" desde la última iteración."
      ]
    },
    {
      "cell_type": "code",
      "metadata": {
        "id": "DRMAZTUfzhuz",
        "colab": {
          "base_uri": "https://localhost:8080/"
        },
        "outputId": "bf05d83f-5449-4033-da68-8412a81559c9"
      },
      "source": [
        "def check_convergence(old_centroids, new_centroids, threshold):\n",
        "  \"\"\"\n",
        "  Esta funcion mira si el algoritmo KMeans ha convergido, basándose en la distancia entre los viejos y los nuevos centroides.\n",
        "  Si la distancia de cada centroide está por debajo de threshold, devolvemos True.\n",
        "\n",
        "  Input:\n",
        "\n",
        "  old_centroids -- numpy-array de shape (K, 2) con los centroides de la iteracion anterior.\n",
        "  new_centroids -- numpy-array de shape (K, 2) con los nuevos centroides.\n",
        "\n",
        "  Output:\n",
        "\n",
        "  True -- si la distancia de todos los centroides es menor a threshold\n",
        "  False -- else\n",
        "\n",
        "  \"\"\"\n",
        "\n",
        "  result = []\n",
        "  for i in range(old_centroids.shape[0]):\n",
        "    rs = np.sqrt(np.sum((old_centroids[i] - new_centroids[i])**2)) \n",
        "    result.append(rs)\n",
        "  print(\"convergence result is {}\".format(result))\n",
        "  count = 0\n",
        "  for i in range(len(result)):\n",
        "    if result[i] <= threshold:\n",
        "      count = count+1\n",
        "  \n",
        "  return True if count == len(result) else False\n",
        "\n",
        "# Probemos nuestra funcion\n",
        "conv = check_convergence(centroids, new_centroids, 0.1)\n",
        "print(\"centroids:\")\n",
        "print(centroids)\n",
        "print(\"new centroids:\")\n",
        "print(new_centroids)\n",
        "print(\"Convergence is: {}\".format(conv))\n",
        "# Ahora pasemos a la funcion los mismos centroides para ver si funciona bien\n",
        "conv = check_convergence(centroids, centroids, 0.1)\n",
        "print(\"Convergence between the same centroids: {}\".format(conv))"
      ],
      "execution_count": null,
      "outputs": [
        {
          "output_type": "stream",
          "name": "stdout",
          "text": [
            "convergence result is [14.67921451723406, 13.067432244596795, 3.039141828620014, 3.280701754385966, 13.956617002163]\n",
            "centroids:\n",
            "[[ 72.  71.]\n",
            " [ 33.   4.]\n",
            " [ 64.  42.]\n",
            " [ 39.  61.]\n",
            " [103.  23.]]\n",
            "new centroids:\n",
            "[[84.         79.45454545]\n",
            " [26.52941176 15.35294118]\n",
            " [62.03773585 44.32075472]\n",
            " [35.71929825 61.        ]\n",
            " [91.06896552 15.75862069]]\n",
            "Convergence is: False\n",
            "convergence result is [0.0, 0.0, 0.0, 0.0, 0.0]\n",
            "Convergence between the same centroids: True\n"
          ]
        }
      ]
    },
    {
      "cell_type": "markdown",
      "metadata": {
        "id": "nVYWA-x7iA5r"
      },
      "source": [
        "**K-means**: Ahora usaremos las funciones que acabamos de implementar para construir el algoritmo K-means. Recordad que estos son los pasos a dar:\n",
        "\n",
        "\n",
        "*   Inicializar los centroides.\n",
        "*   Hasta que el algoritmo converja (loop):\n",
        "   * Calcular las distancias entre las muestras y los centroides.\n",
        "   * Agrupar las muestras en torno al centroide más cercano.\n",
        "   * Calcular los nuevos centroides.\n",
        "   * Mirar si el algoritmo ha convergido."
      ]
    },
    {
      "cell_type": "code",
      "metadata": {
        "id": "GusgtgCgiKrX",
        "colab": {
          "base_uri": "https://localhost:8080/"
        },
        "outputId": "83634495-c3f9-4c7c-8631-ad0bb0a82cce"
      },
      "source": [
        "def our_Kmeans(X, n_clusters, max_iter):\n",
        "  \"\"\"\n",
        "  Esta funcion implementa el algoritmo KMeans basico.\n",
        "\n",
        "  Input:\n",
        "\n",
        "  X -- numpy-array de shape (200, 2) donde estan las muestras a clusterizar.\n",
        "  n_clusters -- el numero de clusters.\n",
        "  max_iter -- el numero maximo de iteraciones del algoritmo\n",
        "\n",
        "  Output:\n",
        "\n",
        "  partition -- diccionario con {num_centroid : [X_index]} representando las muestras que se agrupan en cada cluster\n",
        "  new_centroids -- numpy-array de shape (K, 2) con los centroides finales\n",
        "  iters -- entero que muestra el numero total de iteraciones ejecutadas\n",
        "  \"\"\"\n",
        "  partition = {}\n",
        "  centroids = init_centroids(X)\n",
        "  new_centroids = None\n",
        "  iters = 0\n",
        "  for i in range(max_iter):\n",
        "    iters += 1\n",
        "    dist_matrix, closest_centroid = calculate_distance(X, centroids)\n",
        "    partition, new_centroids = calculate_new_centroids(X, closest_centroid)\n",
        "    conv = check_convergence(centroids, new_centroids, 0.1)\n",
        "    # Actualizar centroids para la siguiente iteracion\n",
        "    centroids = new_centroids\n",
        "\n",
        "    # Mirar si tenemos que parar\n",
        "    if conv == True:\n",
        "      break\n",
        "\n",
        "  return partition, new_centroids, iters\n",
        "\n",
        "  \n",
        "# Y ahora si! Vamos a ejecutar nuestro algoritmo KMeans\n",
        "partition, new_centroids, iters = our_Kmeans(X, K, n_iter)\n",
        "\n",
        "print(\"Numero de iteraciones: {}\".format(iters))\n",
        "print(\"Particion final:\")\n",
        "print(partition)\n",
        "print(\"Centroides finales:\")\n",
        "print(new_centroids)"
      ],
      "execution_count": null,
      "outputs": [
        {
          "output_type": "stream",
          "name": "stdout",
          "text": [
            "centroids shape: (5, 2)\n",
            "random_indices shape: (5,)\n",
            "[143 137  13  79  92]\n",
            "sample 143: [76 87]\n",
            "sample 137: [73 73]\n",
            "sample 13: [20 77]\n",
            "sample 79: [54 42]\n",
            "sample 92: [60 49]\n",
            "convergence result is [14.62040162469201, 7.818747501998002, 5.29596629324678, 13.810841781819892, 8.779171154149246]\n",
            "convergence result is [1.4161142586498199, 1.520722345011508, 3.135097861884862, 8.171839297692179, 3.335599457129599]\n",
            "convergence result is [2.688161667743869, 2.725900618411744, 1.85672218722179, 4.956637090758146, 1.8647257026565507]\n",
            "convergence result is [6.5392325620060285, 3.9090736885433133, 3.7912861916077567, 8.837068440157346, 3.3798134943005125]\n",
            "convergence result is [3.348321426857194, 1.2474597250394353, 3.237056931731028, 0.8864683339321279, 1.1572561630685108]\n",
            "convergence result is [4.872856379648122, 1.5334594742554162, 2.24147740416582, 0.0, 1.1536197245079476]\n",
            "convergence result is [0.0, 0.0, 4.3385872011100135, 2.668726056648021, 2.1372627770750463]\n",
            "convergence result is [0.0, 0.0, 2.4519935240624755, 0.976792582381514, 1.9653593072135984]\n",
            "convergence result is [0.0, 0.8808389384872459, 2.8428799958938273, 2.9342084641677, 2.8251967827525535]\n",
            "convergence result is [0.0, 0.0, 2.97200842776867, 0.0, 4.6765031830281085]\n",
            "convergence result is [0.0, 0.8808389384872459, 2.644284029719071, 0.0, 5.428779373609268]\n",
            "convergence result is [0.0, 0.0, 1.8386087871695749, 0.0, 5.574106613335851]\n",
            "convergence result is [0.0, 0.0, 0.2520759639531231, 0.0, 0.7504587325049887]\n",
            "convergence result is [0.0, 0.0, 0.0, 0.0, 0.0]\n",
            "Numero de iteraciones: 14\n",
            "Particion final:\n",
            "{0: [179, 181, 183, 185, 187, 189, 191, 193, 195, 197, 199], 1: [123, 125, 127, 129, 131, 133, 135, 137, 139, 141, 143, 145, 147, 149, 151, 153, 155, 157, 159, 161, 163, 165, 167, 169, 171, 173, 175, 177], 2: [1, 3, 5, 7, 9, 11, 13, 15, 17, 19, 21, 23, 25, 27, 29, 31, 33, 35, 37, 39, 41, 43, 45, 46, 47, 48, 49, 50, 51, 52, 53, 54, 55, 56, 57, 58, 59, 60, 61, 62, 63, 64, 65, 66, 67, 68, 69, 70, 71, 72, 73, 74, 75, 76, 77, 78, 79, 80, 81, 82, 83, 84, 85, 86, 87, 88, 89, 90, 91, 92, 93, 94, 95, 96, 97, 98, 99, 100, 101, 102, 103, 104, 105, 106, 107, 108, 109, 110, 111, 112, 113, 114, 115, 116, 117, 118, 119, 120, 121, 122], 3: [0, 2, 4, 6, 8, 10, 12, 14, 16, 18, 20, 22, 24, 26, 28, 30, 32, 34, 36, 38, 40, 42, 44], 4: [124, 126, 128, 130, 132, 134, 136, 138, 140, 142, 144, 146, 148, 150, 152, 154, 156, 158, 160, 162, 164, 166, 168, 170, 172, 174, 176, 178, 180, 182, 184, 186, 188, 190, 192, 194, 196, 198]}\n",
            "Centroides finales:\n",
            "[[108.18181818  82.72727273]\n",
            " [ 78.03571429  81.89285714]\n",
            " [ 48.26        56.48      ]\n",
            " [ 26.30434783  20.91304348]\n",
            " [ 87.          18.63157895]]\n"
          ]
        }
      ]
    },
    {
      "cell_type": "markdown",
      "metadata": {
        "id": "w1G6ET4EjSyN"
      },
      "source": [
        "##Visualizando los resultados"
      ]
    },
    {
      "cell_type": "code",
      "metadata": {
        "id": "84PxOG1ljV0i",
        "colab": {
          "base_uri": "https://localhost:8080/",
          "height": 295
        },
        "outputId": "befbefc3-1628-4669-c152-d0640cdb94b2"
      },
      "source": [
        "plt.scatter(X[:,0], X[:,1], c='black', label='unclustered data')\n",
        "plt.xlabel('Income')\n",
        "plt.ylabel('Number of transactions')\n",
        "plt.legend()\n",
        "plt.title('Plot of data points')\n",
        "plt.show()"
      ],
      "execution_count": null,
      "outputs": [
        {
          "output_type": "display_data",
          "data": {
            "text/plain": [
              "<Figure size 432x288 with 1 Axes>"
            ],
            "image/png": "[encoded data removed]"
          },
          "metadata": {
            "needs_background": "light"
          }
        }
      ]
    },
    {
      "cell_type": "markdown",
      "metadata": {
        "id": "hIVmBmefjo0E"
      },
      "source": [
        "Ahora vamos a ver los datos clusterizados:"
      ]
    },
    {
      "cell_type": "code",
      "metadata": {
        "id": "eoWBPfJpjr4Y",
        "colab": {
          "base_uri": "https://localhost:8080/",
          "height": 295
        },
        "outputId": "bcda9e24-3f20-44a2-d53e-2ecfbf8070eb"
      },
      "source": [
        "color=['red','blue','green','cyan','magenta']\n",
        "#labels=['cluster1','cluster2','cluster3','cluster4','cluster5']\n",
        "labels = range(K)\n",
        "for k in range(K):\n",
        "    plt.scatter(X[partition[k], 0], X[partition[k], 1],c=color[k],label=labels[k])\n",
        "plt.scatter(new_centroids[:, 0], new_centroids[:, 1],s=300,c='yellow',label='Centroids')\n",
        "plt.title(\"Clusters of clients\")\n",
        "plt.xlabel(\"Annual income (k$)\")\n",
        "plt.ylabel(\"Spending Score (1-100)\")\n",
        "plt.legend()\n",
        "plt.show()"
      ],
      "execution_count": null,
      "outputs": [
        {
          "output_type": "display_data",
          "data": {
            "text/plain": [
              "<Figure size 432x288 with 1 Axes>"
            ],
            "image/png": "[encoded data removed]"
          },
          "metadata": {
            "needs_background": "light"
          }
        }
      ]
    },
    {
      "cell_type": "markdown",
      "metadata": {
        "id": "SVZ8uqmapkOG"
      },
      "source": [
        "# K-means en Scikit-learn\n",
        "En vez de usar nuestra implementación, vamos a usar una implementación profesional, que podemos encontrar en la librería Scikit-learn de Python. "
      ]
    },
    {
      "cell_type": "code",
      "metadata": {
        "id": "KbKoZtLcqQSY"
      },
      "source": [
        "from sklearn.cluster import KMeans\n",
        "\n",
        "kmeans = KMeans(n_clusters=5, init=\"k-means++\", max_iter=300, n_init=10, random_state=0)\n",
        "y_kmeans = kmeans.fit_predict(X)"
      ],
      "execution_count": null,
      "outputs": []
    },
    {
      "cell_type": "markdown",
      "metadata": {
        "id": "q76-X2YzqmpI"
      },
      "source": [
        "Así de sencillo es usar un algoritmo como este teniendo la librería adecuada. Pero fijémonos en las mejoras que trae esta implementación respecto a la nuestra:\n",
        "\n",
        "\n",
        "*   Inicialización de los centroides: al usar init=\"k-means++\", los centroides no se eligen de forma aleatoria. Se usa el algoritmo de Lloyd o Elkan, que asegura una elección más inteligente que ayude a la convergencia de K-means.\n",
        "*   Repeticiones con varias inicializaciones: el parámetro n_init=10 significa que K-means se ejecuta 10 veces con 10 inicializaciones diferentes de centroides. Al final, se queda con el mejor resultado. ¿Cómo? Eso lo veremos cuando hablemos de evaluación...\n",
        "\n",
        "Con todo, visualicemos el resultado como antes."
      ]
    },
    {
      "cell_type": "code",
      "metadata": {
        "id": "9tSBqafzquNh",
        "colab": {
          "base_uri": "https://localhost:8080/",
          "height": 295
        },
        "outputId": "c9d2f0ba-5fcd-4e5c-b33a-aaa8479026cf"
      },
      "source": [
        "plt.scatter(X[y_kmeans==0, 0], X[y_kmeans==0, 1], c=\"red\", label=\"Careful\")\n",
        "plt.scatter(X[y_kmeans==1, 0], X[y_kmeans==1, 1], c=\"blue\", label=\"Standard\")\n",
        "plt.scatter(X[y_kmeans==2, 0], X[y_kmeans==2, 1], c=\"green\", label=\"Target\")\n",
        "plt.scatter(X[y_kmeans==3, 0], X[y_kmeans==3, 1], c=\"cyan\", label=\"Careless\")\n",
        "plt.scatter(X[y_kmeans==4, 0], X[y_kmeans==4, 1], c=\"magenta\", label=\"Sensible\")\n",
        "plt.scatter(kmeans.cluster_centers_[:, 0], kmeans.cluster_centers_[:, 1], s=300, c=\"yellow\", label=\"Centroids\")\n",
        "plt.title(\"Clusters of clients\")\n",
        "plt.xlabel(\"Annual income (k$)\")\n",
        "plt.ylabel(\"Spending Score (1-100)\")\n",
        "plt.legend()\n",
        "plt.show()"
      ],
      "execution_count": null,
      "outputs": [
        {
          "output_type": "display_data",
          "data": {
            "text/plain": [
              "<Figure size 432x288 with 1 Axes>"
            ],
            "image/png": "[encoded data removed]"
          },
          "metadata": {
            "needs_background": "light"
          }
        }
      ]
    }
  ]
}